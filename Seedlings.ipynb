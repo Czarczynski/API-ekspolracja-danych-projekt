{
  "nbformat": 4,
  "nbformat_minor": 0,
  "metadata": {
    "colab": {
      "name": "Seedlings.ipynb",
      "provenance": [],
      "authorship_tag": "ABX9TyOPuUbhWjU1g19CEO2UG0o7",
      "include_colab_link": true
    },
    "kernelspec": {
      "name": "python3",
      "display_name": "Python 3"
    },
    "language_info": {
      "name": "python"
    }
  },
  "cells": [
    {
      "cell_type": "markdown",
      "metadata": {
        "id": "view-in-github",
        "colab_type": "text"
      },
      "source": [
        "<a href=\"https://colab.research.google.com/github/Czarczynski/API-ekspolracja-danych-projekt/blob/main/Seedlings.ipynb\" target=\"_parent\"><img src=\"https://colab.research.google.com/assets/colab-badge.svg\" alt=\"Open In Colab\"/></a>"
      ]
    },
    {
      "cell_type": "markdown",
      "metadata": {
        "id": "fFPTddCwL7gK"
      },
      "source": [
        "Nasz projekt dotyczył klasyfikowania sadzonek roślin na podstawie ich zdjęć. Dane były zapisane w dwóch folderach - train oraz test. Struktura folderu train składała się z dwunastu podfolderów nazwanych gatunkami roślin, które się w nich znajdowały. Folder test zawierał same zdjęcia bez etykiet, służył on do stworzenia submisji na portalu kaggle. W tym projekcie postanowiliśmy nauczyć naszą sieć z folderu train i nie wysyłać wyników na kaggle."
      ]
    },
    {
      "cell_type": "markdown",
      "metadata": {
        "id": "GVm3x3-uL-dO"
      },
      "source": [
        "**Podsumowanie głównych bibliotek**\n",
        "\n",
        "*   `os` służy jako interfejs do obsługi systemów operacyjnych, my go użyjemy do listowania folderów i plików;\n",
        "*   `numpy` przyda się nam do konwersji danych;\n",
        "*  `pandas` użyjemy do przeprowadzenia krótkiej analizy eksploracyjnej;\n",
        "*   `cv2` służy do transformowania zdjęć;\n",
        "*   `keras`, `sklearn` oraz `tensorflow` służą do obsługi modeli sieci neuronowych;\n",
        "*   `matplotlib.pyplot` użyjemy do wyświetlenia zdjęć oraz wykresów zależności straty i dokładności od epochów;\n",
        "*   `tqdm` służy do wyświetlenia progresu iteracji w pętli;\n",
        "*   `google.colab.patches` naprawia błąd z wyświetlaniem zdjęć z biblioteki cv2.\n",
        "\n",
        "Do prawidłowego działania tego programu należy pobrać dane wejściowe na dysk Google, podać do programu ścieżkę oraz podłączyć dysk do notatnika w Colabie."
      ]
    },
    {
      "cell_type": "code",
      "metadata": {
        "id": "BFcf51kNMEbJ"
      },
      "source": [
        "import os\n",
        "import numpy as np\n",
        "import pandas as pd\n",
        "import cv2\n",
        "from sklearn.preprocessing import OneHotEncoder\n",
        "from keras.models import Sequential\n",
        "from keras.layers import Dense, Dropout, Flatten, Conv2D, MaxPool2D, GlobalMaxPooling2D\n",
        "import keras\n",
        "import tensorflow as tf\n",
        "import matplotlib.pyplot as plt\n",
        "from google.colab.patches import cv2_imshow\n",
        "from tqdm import tqdm"
      ],
      "execution_count": null,
      "outputs": []
    },
    {
      "cell_type": "code",
      "metadata": {
        "id": "h3ixpVMXMHLv"
      },
      "source": [
        ""
      ],
      "execution_count": null,
      "outputs": []
    }
  ]
}